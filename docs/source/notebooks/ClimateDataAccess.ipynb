{
 "cells": [
  {
   "cell_type": "markdown",
   "metadata": {},
   "source": [
    "# Access to Data\n",
    "\n",
    "This tutorial is showing some options to access data, stored in accessable data archives. "
   ]
  },
  {
   "cell_type": "markdown",
   "metadata": {},
   "source": [
    "## ESGF Archive \n",
    "\n",
    "Acess to CMIP6 data with subset selection for the coordinates of Paris\n",
    "\n",
    "The code is oriented from https://esgf-pyclient.readthedocs.io/en/latest/notebooks/demo/subset-cmip6.html"
   ]
  },
  {
   "cell_type": "markdown",
   "metadata": {},
   "source": [
    "### Search data "
   ]
  },
  {
   "cell_type": "code",
   "execution_count": 1,
   "metadata": {},
   "outputs": [],
   "source": [
    "# ESGF can be directly connected with the python client pyesgf\n",
    "# loading the client:\n",
    "from pyesgf.search import SearchConnection\n",
    "\n",
    "# connection to one of the ESGF Nodes\n",
    "conn = SearchConnection('https://esgf-node.ipsl.upmc.fr/esg-search', distrib=False) # set distrib=True if you want to search all nodes\n",
    "\n",
    "# other nodes are: \n",
    "# https://esgf-data.dkrz.de/esg-search"
   ]
  },
  {
   "cell_type": "code",
   "execution_count": 2,
   "metadata": {},
   "outputs": [
    {
     "name": "stdout",
     "output_type": "stream",
     "text": [
      "Number of data sets found: 20\n"
     ]
    }
   ],
   "source": [
    "# search of a set of temperature files\n",
    "ctx = conn.new_context(project='CMIP6', query='tas', frequency='day', experiment_id='ssp585')\n",
    "\n",
    "print('Number of data sets found: {}'.format(ctx.hit_count))\n",
    "\n",
    "# other querry options might be: \n",
    "# experiment_id = ['ssp126', 'ssp245', 'ssp370', 'ssp460','ssp585', 'historical', 'ssp119', 'ssp434']\n",
    "# query = [ 'tas', 'tasmin', 'tasmax', 'pr', 'sfcWind' ] # "
   ]
  },
  {
   "cell_type": "code",
   "execution_count": 3,
   "metadata": {},
   "outputs": [
    {
     "name": "stdout",
     "output_type": "stream",
     "text": [
      "CMIP6.ScenarioMIP.IPSL.IPSL-CM6A-LR.ssp585.r1i1p1f1.day.tas.gr.v20190614|vesg.ipsl.upmc.fr\n",
      "CMIP6.ScenarioMIP.IPSL.IPSL-CM6A-LR.ssp585.r2i1p1f1.day.tas.gr.v20191121|vesg.ipsl.upmc.fr\n",
      "CMIP6.ScenarioMIP.IPSL.IPSL-CM6A-LR.ssp585.r14i1p1f1.day.tas.gr.v20191121|vesg.ipsl.upmc.fr\n",
      "CMIP6.ScenarioMIP.IPSL.IPSL-CM6A-LR.ssp585.r4i1p1f1.day.tas.gr.v20191122|vesg.ipsl.upmc.fr\n",
      "CMIP6.ScenarioMIP.IPSL.IPSL-CM6A-LR.ssp585.r6i1p1f1.day.tas.gr.v20191121|vesg.ipsl.upmc.fr\n",
      "CMIP6.ScenarioMIP.IPSL.IPSL-CM6A-LR.ssp585.r1i1p1f1.day.tas.gr.v20190903|vesg.ipsl.upmc.fr\n",
      "CMIP6.ScenarioMIP.IPSL.IPSL-CM6A-LR.ssp585.r3i1p1f1.day.tas.gr.v20191121|vesg.ipsl.upmc.fr\n",
      "CMIP6.ScenarioMIP.CNRM-CERFACS.CNRM-CM6-1.ssp585.r1i1p1f2.day.tas.gr.v20190219|esg1.umr-cnrm.fr\n",
      "CMIP6.ScenarioMIP.CNRM-CERFACS.CNRM-ESM2-1.ssp585.r5i1p1f2.day.tas.gr.v20190410|esg1.umr-cnrm.fr\n",
      "CMIP6.ScenarioMIP.CNRM-CERFACS.CNRM-ESM2-1.ssp585.r4i1p1f2.day.tas.gr.v20190410|esg1.umr-cnrm.fr\n",
      "CMIP6.ScenarioMIP.CNRM-CERFACS.CNRM-ESM2-1.ssp585.r1i1p1f2.day.tas.gr.v20190328|esg1.umr-cnrm.fr\n",
      "CMIP6.ScenarioMIP.CNRM-CERFACS.CNRM-CM6-1.ssp585.r4i1p1f2.day.tas.gr.v20190410|esg1.umr-cnrm.fr\n",
      "CMIP6.ScenarioMIP.CNRM-CERFACS.CNRM-CM6-1.ssp585.r6i1p1f2.day.tas.gr.v20190410|esg1.umr-cnrm.fr\n",
      "CMIP6.ScenarioMIP.CNRM-CERFACS.CNRM-CM6-1.ssp585.r2i1p1f2.day.tas.gr.v20190410|esg1.umr-cnrm.fr\n",
      "CMIP6.ScenarioMIP.CNRM-CERFACS.CNRM-CM6-1.ssp585.r3i1p1f2.day.tas.gr.v20190410|esg1.umr-cnrm.fr\n",
      "CMIP6.ScenarioMIP.CNRM-CERFACS.CNRM-CM6-1.ssp585.r5i1p1f2.day.tas.gr.v20190410|esg1.umr-cnrm.fr\n",
      "CMIP6.ScenarioMIP.CNRM-CERFACS.CNRM-ESM2-1.ssp585.r1i1p1f2.day.tas.gr.v20191021|esg1.umr-cnrm.fr\n",
      "CMIP6.ScenarioMIP.CNRM-CERFACS.CNRM-CM6-1-HR.ssp585.r1i1p1f2.day.tas.gr.v20191202|esg1.umr-cnrm.fr\n",
      "CMIP6.ScenarioMIP.CNRM-CERFACS.CNRM-ESM2-1.ssp585.r3i1p1f2.day.tas.gr.v20190410|esg1.umr-cnrm.fr\n",
      "CMIP6.ScenarioMIP.CNRM-CERFACS.CNRM-ESM2-1.ssp585.r2i1p1f2.day.tas.gr.v20190410|esg1.umr-cnrm.fr\n"
     ]
    }
   ],
   "source": [
    "# getting some more infos of the datasets found:\n",
    "for result in ctx.search():\n",
    "    print(result.dataset_id)"
   ]
  },
  {
   "cell_type": "markdown",
   "metadata": {},
   "source": [
    "Data sets can consist of multiple files. Each file have an own url to be findable and accessable"
   ]
  },
  {
   "cell_type": "code",
   "execution_count": 4,
   "metadata": {},
   "outputs": [
    {
     "name": "stdout",
     "output_type": "stream",
     "text": [
      "http://vesg.ipsl.upmc.fr/thredds/dodsC/cmip6/ScenarioMIP/IPSL/IPSL-CM6A-LR/ssp585/r2i1p1f1/day/tas/gr/v20191121/tas_day_IPSL-CM6A-LR_ssp585_r2i1p1f1_gr_20150101-21001231.nc\n",
      "http://vesg.ipsl.upmc.fr/thredds/dodsC/cmip6/ScenarioMIP/IPSL/IPSL-CM6A-LR/ssp585/r14i1p1f1/day/tas/gr/v20191121/tas_day_IPSL-CM6A-LR_ssp585_r14i1p1f1_gr_20150101-21001231.nc\n",
      "http://vesg.ipsl.upmc.fr/thredds/dodsC/cmip6/ScenarioMIP/IPSL/IPSL-CM6A-LR/ssp585/r4i1p1f1/day/tas/gr/v20191122/tas_day_IPSL-CM6A-LR_ssp585_r4i1p1f1_gr_20150101-21001231.nc\n",
      "http://vesg.ipsl.upmc.fr/thredds/dodsC/cmip6/ScenarioMIP/IPSL/IPSL-CM6A-LR/ssp585/r6i1p1f1/day/tas/gr/v20191121/tas_day_IPSL-CM6A-LR_ssp585_r6i1p1f1_gr_20150101-21001231.nc\n",
      "http://vesg.ipsl.upmc.fr/thredds/dodsC/cmip6/ScenarioMIP/IPSL/IPSL-CM6A-LR/ssp585/r1i1p1f1/day/tas/gr/v20190903/tas_day_IPSL-CM6A-LR_ssp585_r1i1p1f1_gr_20150101-21001231.nc\n",
      "http://vesg.ipsl.upmc.fr/thredds/dodsC/cmip6/ScenarioMIP/IPSL/IPSL-CM6A-LR/ssp585/r1i1p1f1/day/tas/gr/v20190903/tas_day_IPSL-CM6A-LR_ssp585_r1i1p1f1_gr_21010101-23001231.nc\n",
      "http://vesg.ipsl.upmc.fr/thredds/dodsC/cmip6/ScenarioMIP/IPSL/IPSL-CM6A-LR/ssp585/r3i1p1f1/day/tas/gr/v20191121/tas_day_IPSL-CM6A-LR_ssp585_r3i1p1f1_gr_20150101-21001231.nc\n",
      "http://esg1.umr-cnrm.fr/thredds/dodsC/CMIP6_CNRM/ScenarioMIP/CNRM-CERFACS/CNRM-CM6-1/ssp585/r1i1p1f2/day/tas/gr/v20190219/tas_day_CNRM-CM6-1_ssp585_r1i1p1f2_gr_20150101-21001231.nc\n",
      "http://esg1.umr-cnrm.fr/thredds/dodsC/CMIP6_CNRM/ScenarioMIP/CNRM-CERFACS/CNRM-ESM2-1/ssp585/r5i1p1f2/day/tas/gr/v20190410/tas_day_CNRM-ESM2-1_ssp585_r5i1p1f2_gr_20150101-21001231.nc\n",
      "http://esg1.umr-cnrm.fr/thredds/dodsC/CMIP6_CNRM/ScenarioMIP/CNRM-CERFACS/CNRM-ESM2-1/ssp585/r4i1p1f2/day/tas/gr/v20190410/tas_day_CNRM-ESM2-1_ssp585_r4i1p1f2_gr_20150101-21001231.nc\n",
      "http://esg1.umr-cnrm.fr/thredds/dodsC/CMIP6_CNRM/ScenarioMIP/CNRM-CERFACS/CNRM-CM6-1/ssp585/r4i1p1f2/day/tas/gr/v20190410/tas_day_CNRM-CM6-1_ssp585_r4i1p1f2_gr_20150101-21001231.nc\n",
      "http://esg1.umr-cnrm.fr/thredds/dodsC/CMIP6_CNRM/ScenarioMIP/CNRM-CERFACS/CNRM-CM6-1/ssp585/r6i1p1f2/day/tas/gr/v20190410/tas_day_CNRM-CM6-1_ssp585_r6i1p1f2_gr_20150101-21001231.nc\n",
      "http://esg1.umr-cnrm.fr/thredds/dodsC/CMIP6_CNRM/ScenarioMIP/CNRM-CERFACS/CNRM-CM6-1/ssp585/r2i1p1f2/day/tas/gr/v20190410/tas_day_CNRM-CM6-1_ssp585_r2i1p1f2_gr_20150101-21001231.nc\n",
      "http://esg1.umr-cnrm.fr/thredds/dodsC/CMIP6_CNRM/ScenarioMIP/CNRM-CERFACS/CNRM-CM6-1/ssp585/r3i1p1f2/day/tas/gr/v20190410/tas_day_CNRM-CM6-1_ssp585_r3i1p1f2_gr_20150101-21001231.nc\n",
      "http://esg1.umr-cnrm.fr/thredds/dodsC/CMIP6_CNRM/ScenarioMIP/CNRM-CERFACS/CNRM-CM6-1/ssp585/r5i1p1f2/day/tas/gr/v20190410/tas_day_CNRM-CM6-1_ssp585_r5i1p1f2_gr_20150101-21001231.nc\n",
      "http://esg1.umr-cnrm.fr/thredds/dodsC/CMIP6_CNRM/ScenarioMIP/CNRM-CERFACS/CNRM-ESM2-1/ssp585/r1i1p1f2/day/tas/gr/v20191021/tas_day_CNRM-ESM2-1_ssp585_r1i1p1f2_gr_20150101-21001231.nc\n",
      "http://esg1.umr-cnrm.fr/thredds/dodsC/CMIP6_CNRM/ScenarioMIP/CNRM-CERFACS/CNRM-CM6-1-HR/ssp585/r1i1p1f2/day/tas/gr/v20191202/tas_day_CNRM-CM6-1-HR_ssp585_r1i1p1f2_gr_20150101-20641231.nc\n",
      "http://esg1.umr-cnrm.fr/thredds/dodsC/CMIP6_CNRM/ScenarioMIP/CNRM-CERFACS/CNRM-CM6-1-HR/ssp585/r1i1p1f2/day/tas/gr/v20191202/tas_day_CNRM-CM6-1-HR_ssp585_r1i1p1f2_gr_20650101-21001231.nc\n",
      "http://esg1.umr-cnrm.fr/thredds/dodsC/CMIP6_CNRM/ScenarioMIP/CNRM-CERFACS/CNRM-ESM2-1/ssp585/r3i1p1f2/day/tas/gr/v20190410/tas_day_CNRM-ESM2-1_ssp585_r3i1p1f2_gr_20150101-21001231.nc\n",
      "http://esg1.umr-cnrm.fr/thredds/dodsC/CMIP6_CNRM/ScenarioMIP/CNRM-CERFACS/CNRM-ESM2-1/ssp585/r2i1p1f2/day/tas/gr/v20190410/tas_day_CNRM-ESM2-1_ssp585_r2i1p1f2_gr_20150101-21001231.nc\n"
     ]
    }
   ],
   "source": [
    "# print out the url locations\n",
    "for i in ctx.search():\n",
    "    files = i.file_context().search()\n",
    "    for file in files:\n",
    "        print(file.opendap_url)"
   ]
  },
  {
   "cell_type": "markdown",
   "metadata": {},
   "source": [
    "### Access Data"
   ]
  },
  {
   "cell_type": "code",
   "execution_count": 5,
   "metadata": {},
   "outputs": [
    {
     "name": "stdout",
     "output_type": "stream",
     "text": [
      "<xarray.Dataset>\n",
      "Dimensions:      (axis_nbounds: 2, lat: 128, lon: 256, time: 31411)\n",
      "Coordinates:\n",
      "  * lat          (lat) float64 -88.93 -87.54 -86.14 -84.74 ... 86.14 87.54 88.93\n",
      "  * lon          (lon) float64 0.0 1.406 2.812 4.219 ... 354.4 355.8 357.2 358.6\n",
      "    height       float64 ...\n",
      "  * time         (time) datetime64[ns] 2015-01-01T12:00:00 ... 2100-12-31T12:00:00\n",
      "Dimensions without coordinates: axis_nbounds\n",
      "Data variables:\n",
      "    time_bounds  (time, axis_nbounds) datetime64[ns] dask.array<chunksize=(120, 2), meta=np.ndarray>\n",
      "    tas          (time, lat, lon) float32 dask.array<chunksize=(120, 128, 256), meta=np.ndarray>\n",
      "Attributes:\n",
      "    Conventions:                     CF-1.7 CMIP-6.2\n",
      "    creation_date:                   2020-04-25T20:37:42Z\n",
      "    description:                     Future scenario with high radiative forc...\n",
      "    title:                           CNRM-ESM2-1 model output prepared for CM...\n",
      "    activity_id:                     ScenarioMIP\n",
      "    contact:                         contact.cmip@meteo.fr\n",
      "    data_specs_version:              01.00.21\n",
      "    dr2xml_version:                  1.16\n",
      "    experiment_id:                   ssp585\n",
      "    experiment:                      update of RCP8.5 based on SSP5\n",
      "    external_variables:              areacella\n",
      "    forcing_index:                   2\n",
      "    frequency:                       day\n",
      "    further_info_url:                https://furtherinfo.es-doc.org/CMIP6.CNR...\n",
      "    grid:                            data regridded to a T127 gaussian grid (...\n",
      "    grid_label:                      gr\n",
      "    nominal_resolution:              250 km\n",
      "    initialization_index:            1\n",
      "    institution_id:                  CNRM-CERFACS\n",
      "    institution:                     CNRM (Centre National de Recherches Mete...\n",
      "    license:                         CMIP6 model data produced by CNRM-CERFAC...\n",
      "    mip_era:                         CMIP6\n",
      "    parent_experiment_id:            historical\n",
      "    parent_mip_era:                  CMIP6\n",
      "    parent_activity_id:              CMIP\n",
      "    parent_source_id:                CNRM-ESM2-1\n",
      "    parent_time_units:               days since 1850-01-01 00:00:00\n",
      "    parent_variant_label:            r2i1p1f2\n",
      "    branch_method:                   standard\n",
      "    physics_index:                   1\n",
      "    product:                         model-output\n",
      "    realization_index:               2\n",
      "    realm:                           atmos\n",
      "    references:                      http://www.umr-cnrm.fr/cmip6/references\n",
      "    source:                          CNRM-ESM2-1 (2017):  aerosol: TACTIC_v2 ...\n",
      "    source_id:                       CNRM-ESM2-1\n",
      "    source_type:                     AOGCM BGC AER CHEM\n",
      "    sub_experiment_id:               none\n",
      "    sub_experiment:                  none\n",
      "    table_id:                        day\n",
      "    variable_id:                     tas\n",
      "    variant_label:                   r2i1p1f2\n",
      "    EXPID:                           CNRM-ESM2-1_ssp585_r2i1p1f2_b\n",
      "    CMIP6_CV_version:                cv=6.2.3.0-7-g2019642\n",
      "    dr2xml_md5sum:                   8cfeede64d93717aaab88d5787e72b4f\n",
      "    xios_commit:                     1442-shuffle\n",
      "    nemo_gelato_commit:              49095b3accd5d4c_6524fe19b00467a\n",
      "    arpege_minor_version:            6.3.2\n",
      "    branch_time_in_parent:           60265.0\n",
      "    branch_time_in_child:            60265.0\n",
      "    history:                         none\n",
      "    tracking_id:                     hdl:21.14100/ca747621-c3da-41b8-b9dc-729...\n",
      "    DODS_EXTRA.Unlimited_Dimension:  time\n"
     ]
    }
   ],
   "source": [
    "# access the metadata \n",
    "import xarray as xr\n",
    "ds = xr.open_dataset(files[0].opendap_url, chunks={'time': 120})\n",
    "print(ds)"
   ]
  },
  {
   "cell_type": "code",
   "execution_count": 6,
   "metadata": {},
   "outputs": [],
   "source": [
    "# select the area of Paris, due to the low resolution of CMIP6 it will result in just one grid-point\n",
    "da = ds['tas']\n",
    "da = da.isel(time=slice(0, 1000)) # fetching just the first 1000 days\n",
    "da = da.sel(lat=slice(2, 3), lon=slice(47, 49))"
   ]
  },
  {
   "cell_type": "code",
   "execution_count": 7,
   "metadata": {},
   "outputs": [
    {
     "data": {
      "text/plain": [
       "[<matplotlib.lines.Line2D at 0x7f0ac3976820>]"
      ]
     },
     "execution_count": 7,
     "metadata": {},
     "output_type": "execute_result"
    },
    {
     "data": {
      "image/png": "[encoded data removed]",
      "text/plain": [
       "<Figure size 432x288 with 1 Axes>"
      ]
     },
     "metadata": {
      "needs_background": "light"
     },
     "output_type": "display_data"
    }
   ],
   "source": [
    "# Plot the timeseries\n",
    "%matplotlib inline\n",
    "da.plot()"
   ]
  },
  {
   "cell_type": "code",
   "execution_count": 8,
   "metadata": {},
   "outputs": [
    {
     "data": {
      "text/plain": [
       "<xarray.DataArray 'tas' (time: 1000, lat: 1, lon: 1)>\n",
       "dask.array<getitem, shape=(1000, 1, 1), dtype=float32, chunksize=(120, 1, 1), chunktype=numpy.ndarray>\n",
       "Coordinates:\n",
       "  * lat      (lat) float64 2.101\n",
       "  * lon      (lon) float64 47.81\n",
       "    height   float64 ...\n",
       "  * time     (time) datetime64[ns] 2015-01-01T12:00:00 ... 2017-09-26T12:00:00\n",
       "Attributes:\n",
       "    online_operation:    average\n",
       "    cell_methods:        area: time: mean\n",
       "    interval_operation:  900 s\n",
       "    interval_write:      1 d\n",
       "    standard_name:       air_temperature\n",
       "    description:         Near-Surface Air Temperature\n",
       "    long_name:           Near-Surface Air Temperature\n",
       "    history:             none\n",
       "    units:               K\n",
       "    cell_measures:       area: areacella\n",
       "    _ChunkSizes:         [  1 128 256]"
      ]
     },
     "execution_count": 8,
     "metadata": {},
     "output_type": "execute_result"
    }
   ],
   "source": [
    "# to explore the data according to the choosen query:\n",
    "da"
   ]
  },
  {
   "cell_type": "code",
   "execution_count": 9,
   "metadata": {},
   "outputs": [],
   "source": [
    "da.to_netcdf('~/data/testforparis_2015-2100.nc')"
   ]
  },
  {
   "cell_type": "code",
   "execution_count": 10,
   "metadata": {},
   "outputs": [
    {
     "data": {
      "text/plain": [
       "'CMIP6.ScenarioMIP.CNRM-CERFACS.CNRM-ESM2-1.ssp585.r2i1p1f2.day.tas.gr.v20190410.tas_day_CNRM-ESM2-1_ssp585_r2i1p1f2_gr_20150101-21001231.nc|esg1.umr-cnrm.fr'"
      ]
     },
     "execution_count": 10,
     "metadata": {},
     "output_type": "execute_result"
    }
   ],
   "source": [
    "files[0].file_id"
   ]
  },
  {
   "cell_type": "code",
   "execution_count": null,
   "metadata": {},
   "outputs": [],
   "source": []
  }
 ],
 "metadata": {
  "kernelspec": {
   "display_name": "Python 3",
   "language": "python",
   "name": "python3"
  },
  "language_info": {
   "codemirror_mode": {
    "name": "ipython",
    "version": 3
   },
   "file_extension": ".py",
   "mimetype": "text/x-python",
   "name": "python",
   "nbconvert_exporter": "python",
   "pygments_lexer": "ipython3",
   "version": "3.8.5"
  }
 },
 "nbformat": 4,
 "nbformat_minor": 4
}
